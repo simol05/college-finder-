{
 "cells": [
  {
   "cell_type": "markdown",
   "id": "35af08c0",
   "metadata": {},
   "source": [
    "# Multiplication Tables\n"
   ]
  },
  {
   "cell_type": "markdown",
   "id": "29aa08a0",
   "metadata": {},
   "source": [
    "Table of your choice"
   ]
  },
  {
   "cell_type": "code",
   "execution_count": 1,
   "id": "3a030052",
   "metadata": {},
   "outputs": [
    {
     "name": "stdout",
     "output_type": "stream",
     "text": [
      "enter the number of your choice : 85\n",
      "enter the number to which table is to printed 12\n",
      "---------------\n",
      "85 x 1 = 85\n",
      "---------------\n",
      "85 x 2 = 170\n",
      "---------------\n",
      "85 x 3 = 255\n",
      "---------------\n",
      "85 x 4 = 340\n",
      "---------------\n",
      "85 x 5 = 425\n",
      "---------------\n",
      "85 x 6 = 510\n",
      "---------------\n",
      "85 x 7 = 595\n",
      "---------------\n",
      "85 x 8 = 680\n",
      "---------------\n",
      "85 x 9 = 765\n",
      "---------------\n",
      "85 x 10 = 850\n",
      "---------------\n",
      "85 x 11 = 935\n",
      "---------------\n",
      "85 x 12 = 1020\n",
      "---------------\n"
     ]
    }
   ],
   "source": [
    "num = int(input(\"enter the number of your choice : \"))\n",
    "num2 = int(input(\"enter the number to which table is to printed \"))\n",
    "print(\"-\" *15)\n",
    "mult = 1\n",
    "while mult<=num2:\n",
    "    print(num, \"x\", mult, \"=\" , num*mult)\n",
    "    print(\"-\"*15)\n",
    "    mult = mult+1"
   ]
  }
 ],
 "metadata": {
  "kernelspec": {
   "display_name": "Python 3",
   "language": "python",
   "name": "python3"
  },
  "language_info": {
   "codemirror_mode": {
    "name": "ipython",
    "version": 3
   },
   "file_extension": ".py",
   "mimetype": "text/x-python",
   "name": "python",
   "nbconvert_exporter": "python",
   "pygments_lexer": "ipython3",
   "version": "3.8.8"
  }
 },
 "nbformat": 4,
 "nbformat_minor": 5
}
