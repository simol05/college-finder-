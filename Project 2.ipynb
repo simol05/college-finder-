{
 "cells": [
  {
   "cell_type": "markdown",
   "id": "0113ccca",
   "metadata": {},
   "source": [
    "# ROCK PAPER SCISSORS"
   ]
  },
  {
   "cell_type": "markdown",
   "id": "4aad868e",
   "metadata": {},
   "source": [
    "Game Rules - \n",
    "Rock smashes scissors.\n",
    "Paper covers rock.\n",
    "Scissors cut paper."
   ]
  },
  {
   "cell_type": "markdown",
   "id": "33b77b73",
   "metadata": {},
   "source": [
    "lets play!!!"
   ]
  },
  {
   "cell_type": "code",
   "execution_count": 1,
   "id": "7ce29c17",
   "metadata": {},
   "outputs": [
    {
     "name": "stdout",
     "output_type": "stream",
     "text": [
      "Enter a choice (rock, paper, scissors): rock\n",
      "Enter a choice (rock, paper, scissors): paper\n",
      "\n",
      "You chose rock, your friend chose paper.\n",
      "\n"
     ]
    }
   ],
   "source": [
    "user1 = input(\"Enter a choice (rock, paper, scissors): \")\n",
    "user2 = input(\"Enter a choice (rock, paper, scissors): \")\n",
    "possible_choices = ['rock' , 'paper' , 'scissor']\n",
    "print(f\"\\nYou chose {user1}, your friend chose {user2}.\\n\")"
   ]
  },
  {
   "cell_type": "code",
   "execution_count": 2,
   "id": "a77ece8f",
   "metadata": {},
   "outputs": [
    {
     "name": "stdout",
     "output_type": "stream",
     "text": [
      "paper cover rock. you lose!\n"
     ]
    }
   ],
   "source": [
    "if user1 == user2 :\n",
    "    print(f\"both players wins {user1}.it's a Tie!\")\n",
    "elif user1 == \"rock\" :\n",
    "    if user2 == \"scissors\" :\n",
    "        print(\"rock smashes scissors. you win!!!\")\n",
    "    else :\n",
    "        print(\"paper cover rock. you lose!\")\n",
    "elif user1 == \"paper\" :\n",
    "    if user2 == \"rock\" :\n",
    "        print(\"paper covers rock. you win!!!\")\n",
    "    else :\n",
    "        print(\"scissors cut paper. you lose!\")\n",
    "elif user1 == \"scissors\" :\n",
    "    if user2 == \"paper\" :\n",
    "        print(\"scissors cut paper. you win!!!\")\n",
    "    else :\n",
    "        print(\"rock smashes scissors. you lose!\")\n",
    "\n",
    "        "
   ]
  },
  {
   "cell_type": "code",
   "execution_count": 25,
   "id": "f95a4518",
   "metadata": {},
   "outputs": [
    {
     "name": "stdout",
     "output_type": "stream",
     "text": [
      "If you'd like to play again, please type 'yes'no\n",
      "you are an amazing player!! see you soon\n"
     ]
    }
   ],
   "source": [
    "play_again = input(\"If you'd like to play again, please type 'yes'\")\n",
    "if play_again == \"yes\":\n",
    "    print(\"happy to have you back on game!!!\")\n",
    "else:\n",
    "    print(\"you are an amazing player!! see you soon\")"
   ]
  }
 ],
 "metadata": {
  "kernelspec": {
   "display_name": "Python 3",
   "language": "python",
   "name": "python3"
  },
  "language_info": {
   "codemirror_mode": {
    "name": "ipython",
    "version": 3
   },
   "file_extension": ".py",
   "mimetype": "text/x-python",
   "name": "python",
   "nbconvert_exporter": "python",
   "pygments_lexer": "ipython3",
   "version": "3.8.8"
  }
 },
 "nbformat": 4,
 "nbformat_minor": 5
}
