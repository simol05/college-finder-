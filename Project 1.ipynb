{
 "cells": [
  {
   "cell_type": "markdown",
   "id": "17031575",
   "metadata": {},
   "source": [
    "# Student Portfolio\n"
   ]
  },
  {
   "cell_type": "markdown",
   "id": "2dfd4af1",
   "metadata": {},
   "source": [
    "Please fill your details and check it twice."
   ]
  },
  {
   "cell_type": "code",
   "execution_count": 1,
   "id": "aeb889ca",
   "metadata": {},
   "outputs": [
    {
     "name": "stdout",
     "output_type": "stream",
     "text": [
      "enter the name of the student : simol gandhi\n",
      "enter the division : ug\n",
      "Enter the standard you are in : 12\n",
      " your roll number : 134\n"
     ]
    }
   ],
   "source": [
    "name = input(\"enter the name of the student : \")\n",
    "Division = str(input(\"enter the division : \"))\n",
    "std = str(input(\"Enter the standard you are in : \"))\n",
    "roll_num = int(input(\" your roll number : \"))"
   ]
  },
  {
   "cell_type": "code",
   "execution_count": 2,
   "id": "3ff7ed6b",
   "metadata": {},
   "outputs": [
    {
     "name": "stdout",
     "output_type": "stream",
     "text": [
      " Enter the marks obtained in the subjects\n"
     ]
    }
   ],
   "source": [
    "print(\" Enter the marks obtained in the subjects\")"
   ]
  },
  {
   "cell_type": "code",
   "execution_count": 3,
   "id": "ab9be28d",
   "metadata": {},
   "outputs": [
    {
     "name": "stdout",
     "output_type": "stream",
     "text": [
      "enter the marks in mathematics : 88\n",
      "enter the marks in physics : 85\n",
      "enter the marks in English : 95\n"
     ]
    }
   ],
   "source": [
    "m1 = int(input(\"enter the marks in mathematics : \"))\n",
    "m2 = int(input(\"enter the marks in physics : \"))\n",
    "m3 = int(input(\"enter the marks in English : \"))"
   ]
  },
  {
   "cell_type": "code",
   "execution_count": null,
   "id": "b5bb25e7",
   "metadata": {},
   "outputs": [],
   "source": [
    "total_marks = m1 + m2 + m3\n",
    "print(\"the total marks is: \\t\" , total_marks)\n",
    "average_marks = total_marks/3\n",
    "print(\"the average marks is: \\t\" , average_marks )\n",
    "percentage = (total_marks/300)*100\n",
    "print(\"the percentage is: \\t\" , percentage )"
   ]
  },
  {
   "cell_type": "code",
   "execution_count": null,
   "id": "cfed8cde",
   "metadata": {},
   "outputs": [],
   "source": []
  }
 ],
 "metadata": {
  "kernelspec": {
   "display_name": "Python 3",
   "language": "python",
   "name": "python3"
  },
  "language_info": {
   "codemirror_mode": {
    "name": "ipython",
    "version": 3
   },
   "file_extension": ".py",
   "mimetype": "text/x-python",
   "name": "python",
   "nbconvert_exporter": "python",
   "pygments_lexer": "ipython3",
   "version": "3.8.8"
  }
 },
 "nbformat": 4,
 "nbformat_minor": 5
}
